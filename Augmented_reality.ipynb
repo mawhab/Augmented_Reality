{
 "cells": [
  {
   "cell_type": "code",
   "execution_count": 1,
   "metadata": {},
   "outputs": [],
   "source": [
    "# %matplotlib qt"
   ]
  },
  {
   "cell_type": "code",
   "execution_count": 2,
   "metadata": {},
   "outputs": [],
   "source": [
    "from Supplementary.loadVid import loadVid\n",
    "import cv2 as cv\n",
    "import numpy as np\n",
    "import matplotlib.pyplot as plt"
   ]
  },
  {
   "cell_type": "code",
   "execution_count": 3,
   "metadata": {},
   "outputs": [],
   "source": [
    "def find_H(correspondences):\n",
    "    P = []\n",
    "    for ((x1,y1),(x2,y2)) in correspondences[:4]:\n",
    "        rows = [[x1, y1, 1, 0, 0, 0, -x1*x2, -y1*x2, -x2],\n",
    "                [0, 0, 0, x1, y1, 1, -x1*y2, -y1*y2, -y2]]\n",
    "        P.extend(rows)\n",
    "\n",
    "    _, __, V = np.linalg.svd(np.array(P))\n",
    "    H = V[-1, :] / V[-1,-1]\n",
    "    return H.reshape((3,3))"
   ]
  },
  {
   "cell_type": "code",
   "execution_count": 4,
   "metadata": {},
   "outputs": [],
   "source": [
    "def find_H_cv(src, dst):\n",
    "    h, _ = cv.findHomography(src, dst, cv.RANSAC, 5.0)\n",
    "    return h"
   ]
  },
  {
   "cell_type": "code",
   "execution_count": 5,
   "metadata": {},
   "outputs": [],
   "source": [
    "def find_correspondences_cv(img1, img2, plot=None):\n",
    "    gray1 = cv.cvtColor(img1, cv.COLOR_RGB2GRAY)\n",
    "    gray2 = cv.cvtColor(img2, cv.COLOR_RGB2GRAY)\n",
    "\n",
    "    sift = cv.SIFT_create()\n",
    "\n",
    "    kp1, des1 = sift.detectAndCompute(gray1, None)\n",
    "    kp2, des2 = sift.detectAndCompute(gray2, None)\n",
    "\n",
    "    bf = cv.BFMatcher()\n",
    "\n",
    "    matches = bf.knnMatch(des1, des2, k=2)\n",
    "\n",
    "    good_matches = []\n",
    "    for m,n in matches:\n",
    "        if m.distance < 0.7 * n.distance:\n",
    "            good_matches.append(m)\n",
    "\n",
    "    src_pts = np.float32([kp1[g.queryIdx].pt for g in good_matches]).reshape(-1,1,2)\n",
    "    dst_pts = np.float32([kp2[g.trainIdx].pt for g in good_matches]).reshape(-1,1,2)\n",
    "    \n",
    "    if plot is not None:\n",
    "        if len(good_matches)>plot:\n",
    "            to_plot = np.random.choice(good_matches, plot)\n",
    "        else:\n",
    "            to_plot = good_matches\n",
    "        draw_params = dict(matchColor = (255,0,0), # draw matches in green color\n",
    "                   singlePointColor = None,\n",
    "                   flags = 2)\n",
    "        img3 = cv.drawMatches(img1, kp1, img2, kp2, to_plot, None, **draw_params)\n",
    "        _ = plt.figure(figsize=(15,10))\n",
    "        plt.imshow(img3)\n",
    "        plt.show()\n",
    "    \n",
    "    return src_pts, dst_pts"
   ]
  },
  {
   "cell_type": "code",
   "execution_count": 6,
   "metadata": {},
   "outputs": [],
   "source": [
    "def get_boundary(img, H):\n",
    "    corner_points = [(0,0), (img.shape[1]-1,0), (0, img.shape[0]-1), (img.shape[1]-1, img.shape[0]-1)]\n",
    "    new_corners = [[], []]\n",
    "    for x,y in corner_points:\n",
    "        point = np.array([x, y, 1])[:, np.newaxis]\n",
    "        new_point = np.matmul(H, point).squeeze()\n",
    "        xi, yi, _ = new_point/new_point[2]\n",
    "        new_corners[0].append(xi)\n",
    "        new_corners[1].append(yi)\n",
    "    \n",
    "    min_x, max_x = min(new_corners[0]), max(new_corners[0])\n",
    "    min_y, max_y = min(new_corners[1]), max(new_corners[1])\n",
    "    return (max_x, min_x), (max_y, min_y)"
   ]
  },
  {
   "cell_type": "code",
   "execution_count": 7,
   "metadata": {},
   "outputs": [],
   "source": [
    "def crop_frame(frame, size):\n",
    "    height, width = size\n",
    "    center_x = frame.shape[1]//2\n",
    "    center_y = frame.shape[0]//2\n",
    "    start_x = max(center_x-width//2, 0)\n",
    "    end_x = min(center_x+width//2, frame.shape[1])\n",
    "    start_y = max(center_y-height//2, 0)\n",
    "    end_y = min(center_y+height//2, frame.shape[0])\n",
    "    cropped_frame = frame[start_y:end_y, start_x:end_x, :]\n",
    "    return cropped_frame\n"
   ]
  },
  {
   "cell_type": "code",
   "execution_count": 8,
   "metadata": {},
   "outputs": [],
   "source": [
    "video_original = loadVid('Supplementary/book.mov')\n",
    "video_overlayed = loadVid('Supplementary/ar_source.mov')\n",
    "book = cv.cvtColor(cv.imread('Supplementary/cv_cover.jpg'), cv.COLOR_BGR2RGB)"
   ]
  },
  {
   "cell_type": "code",
   "execution_count": 9,
   "metadata": {},
   "outputs": [
    {
     "data": {
      "text/plain": [
       "((641, 480, 640, 3), (511, 360, 640, 3))"
      ]
     },
     "execution_count": 9,
     "metadata": {},
     "output_type": "execute_result"
    }
   ],
   "source": [
    "video_original.shape, video_overlayed.shape"
   ]
  },
  {
   "cell_type": "markdown",
   "metadata": {},
   "source": [
    "# TODO: Verify correct homography by displaying blue anc white points like last time"
   ]
  },
  {
   "cell_type": "code",
   "execution_count": 10,
   "metadata": {},
   "outputs": [],
   "source": [
    "frame_original = video_original[0]\n",
    "frame_overlay = video_overlayed[0]\n",
    "frame_overlay = frame_overlay[44:316,:,:]"
   ]
  },
  {
   "cell_type": "code",
   "execution_count": 11,
   "metadata": {},
   "outputs": [],
   "source": [
    "# h = find_H_cv(*find_correspondences_cv(book, frame_original, plot=50))\n",
    "h = find_H_cv(*find_correspondences_cv(book, frame_original))"
   ]
  },
  {
   "cell_type": "code",
   "execution_count": 12,
   "metadata": {},
   "outputs": [],
   "source": [
    "(max_x, min_x), (max_y, min_y) = get_boundary(book, h)\n",
    "width = int(np.ceil(max_x)-np.floor(min_x))\n",
    "height = int(np.ceil(max_y)-np.floor(min_y))\n",
    "cropped_frame = crop_frame(frame_overlay, (height, width))\n",
    "plt.figure(figsize=(15,10))\n",
    "plt.imshow(cropped_frame)\n",
    "plt.show()"
   ]
  },
  {
   "cell_type": "code",
   "execution_count": null,
   "metadata": {},
   "outputs": [],
   "source": [
    "# TODO: figure out aspect ratio stuff. its not just take exact dimensions\n",
    "# its probably more take a scale of the aspect ratio. Find aspect ratio of\n",
    "# of book -> get similar aspect ratio from movie based on minimum dimension\n",
    "# which is probably going to be y. if both dimensions are more than requried\n",
    "# then just take exact dimensions of book. good night."
   ]
  }
 ],
 "metadata": {
  "kernelspec": {
   "display_name": "Python 3",
   "language": "python",
   "name": "python3"
  },
  "language_info": {
   "codemirror_mode": {
    "name": "ipython",
    "version": 3
   },
   "file_extension": ".py",
   "mimetype": "text/x-python",
   "name": "python",
   "nbconvert_exporter": "python",
   "pygments_lexer": "ipython3",
   "version": "3.8.10"
  }
 },
 "nbformat": 4,
 "nbformat_minor": 2
}
